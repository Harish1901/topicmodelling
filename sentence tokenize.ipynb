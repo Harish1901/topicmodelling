{
 "cells": [
  {
   "cell_type": "code",
   "execution_count": 9,
   "metadata": {},
   "outputs": [
    {
     "name": "stdout",
     "output_type": "stream",
     "text": [
      "By default, if a thing belongs to 10 thing groups, you cannot add the thing to additional groups. If you are updating thing membership with the AddThingToThingGroup or UpdateThingGroupsForThing commands, you can use the overrideDynamicGroups flag to make static thing groups take priority over dynamic thing groups. With overrideDynamicGroups enabled, if a thing belongs to 10 thing groups, and one or more of those groups is dynamic, adding the thing to a static thing group removes it from the newest dynamic thing group.\n",
      "For example, suppose that you create a dynamic thing group named DynamicGroup1, and then you create nine more dynamic thing groups, with DynamicGroup10 being the last group that you created. If Thing1 belongs to all 10 dynamic thing groups, manually adding Thing1 to a static group with OverrideDynamicGroups enabled removes the thing from DynamicGroup10.\n",
      "\n"
     ]
    },
    {
     "name": "stderr",
     "output_type": "stream",
     "text": [
      "[nltk_data] Downloading package punkt to /home/harish/nltk_data...\n",
      "[nltk_data]   Package punkt is already up-to-date!\n"
     ]
    }
   ],
   "source": [
    "from nltk import tokenize\n",
    "import nltk\n",
    "nltk.download('punkt')\n",
    "tk=tokenize\n",
    "f=open('myfile','r')\n",
    "a=f.read()\n",
    "tk.sent_tokenize(a)\n",
    "print(a)\n",
    "f.close()\n"
   ]
  },
  {
   "cell_type": "code",
   "execution_count": 21,
   "metadata": {},
   "outputs": [
    {
     "name": "stdout",
     "output_type": "stream",
     "text": [
      "By default, if a thing belongs to 10 thing groups, you cannot add the thing to additional groups. If you are updating thing membership with the AddThingToThingGroup or UpdateThingGroupsForThing commands, you can use the overrideDynamicGroups flag to make static thing groups take priority over dynamic thing groups. With overrideDynamicGroups enabled, if a thing belongs to 10 thing groups, and one or more of those groups is dynamic, adding the thing to a static thing group removes it from the newest dynamic thing group.\n",
      "For example, suppose that you create a dynamic thing group named DynamicGroup1, and then you create nine more dynamic thing groups, with DynamicGroup10 being the last group that you created. If Thing1 belongs to all 10 dynamic thing groups, manually adding Thing1 to a static group with OverrideDynamicGroups enabled removes the thing from DynamicGroup10.\n",
      "\n"
     ]
    }
   ],
   "source": [
    "with open('myfile') as f:\n",
    "    lines = f.read()\n",
    "\n",
    "tests = lines.split(\"/n/n\")\n",
    "for test in tests:\n",
    "    print(test)\n"
   ]
  },
  {
   "cell_type": "code",
   "execution_count": 30,
   "metadata": {},
   "outputs": [
    {
     "name": "stdout",
     "output_type": "stream",
     "text": [
      "<generator object txt2paragraph at 0x7fdca068adb0>\n"
     ]
    }
   ],
   "source": [
    "def txt2paragraph(filepath):\n",
    "    with open(filepath) as f:\n",
    "        lines = f.readlines()\n",
    "\n",
    "    paragraph = ''\n",
    "    for line in lines:\n",
    "        if line.isspace():  # is it an empty line?\n",
    "            if paragraph:\n",
    "                yield paragraph\n",
    "                paragraph = ''\n",
    "            else:\n",
    "                continue\n",
    "        else:\n",
    "            paragraph += ' ' + line.strip()\n",
    "    yield paragraph\n",
    "a = txt2paragraph(\"./myfile\")\n",
    "print(a)"
   ]
  },
  {
   "cell_type": "code",
   "execution_count": 3,
   "metadata": {},
   "outputs": [
    {
     "name": "stdout",
     "output_type": "stream",
     "text": [
      "5\n",
      "[]\n"
     ]
    }
   ],
   "source": [
    "from nltk.tokenize import sent_tokenize\n",
    "\n",
    "#sentence = \"My friend holds a Msc. in Computer Science.\"\n",
    "f=open('myfile','r')\n",
    "sentence=f.read()\n",
    "newdoc = sent_tokenize(sentence)\n",
    "print(len(newdoc))\n",
    "#print(newdoc[0:5])\n",
    "n = 0\n",
    "n1 = 2\n",
    "for doc in newdoc:\n",
    "    chunk = newdoc[n:n1]\n",
    "    if chunk != []:\n",
    "        print(chunk)\n",
    "        n += 2\n",
    "        n1 += 2\n",
    "\n",
    "        \n",
    "\n",
    "            \n",
    "\n"
   ]
  },
  {
   "cell_type": "code",
   "execution_count": 7,
   "metadata": {},
   "outputs": [
    {
     "name": "stdout",
     "output_type": "stream",
     "text": [
      "['By default, if a thing belongs to 10 thing groups, you cannot add the thing to additional groups.', 'If you are updating thing membership with the AddThingToThingGroup or UpdateThingGroupsForThing commands, you can use the overrideDynamicGroups flag to make static thing groups take priority over dynamic thing groups.']\n"
     ]
    }
   ],
   "source": [
    "from nltk.tokenize import sent_tokenize\n",
    "\n",
    "#sentence = \"My friend holds a Msc. in Computer Science.\"\n",
    "f=open('myfile','r')\n",
    "sentence=f.read()\n",
    "newdoc = sent_tokenize(sentence)\n",
    "#print(len(newdoc))\n",
    "print(newdoc[0:2])"
   ]
  },
  {
   "cell_type": "code",
   "execution_count": null,
   "metadata": {},
   "outputs": [],
   "source": []
  }
 ],
 "metadata": {
  "kernelspec": {
   "display_name": "Python 2",
   "language": "python",
   "name": "python2"
  },
  "language_info": {
   "codemirror_mode": {
    "name": "ipython",
    "version": 3
   },
   "file_extension": ".py",
   "mimetype": "text/x-python",
   "name": "python",
   "nbconvert_exporter": "python",
   "pygments_lexer": "ipython3",
   "version": "3.5.2"
  }
 },
 "nbformat": 4,
 "nbformat_minor": 2
}
